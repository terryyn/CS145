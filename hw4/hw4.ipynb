{
 "cells": [
  {
   "cell_type": "markdown",
   "metadata": {},
   "source": [
    "# CS145 Howework 4\n",
    "\n",
    "\n",
    "<span style=\"color:red\"> **Important Note:** </span>\n",
    "HW4 is due on **11:59 PM PT, Nov 20 (Friday, Week 7)**. Please submit through GradeScope. \n",
    "\n",
    "## Print Out Your Name and UID\n",
    "\n",
    "<span style=\"color:blue\"> **Name: Yunong Ye, UID: 004757414** </span>\n",
    "\n",
    "## Before You Start\n",
    "\n",
    "You need to first create HW4 conda environment by the given `cs145hw4.yml` file, which provides the name and necessary packages for this tasks. If you have `conda` properly installed, you may create, activate or deactivate by the following commands:\n",
    "\n",
    "```\n",
    "conda env create -f cs145hw4.yml\n",
    "conda activate hw4\n",
    "conda deactivate\n",
    "```\n",
    "OR \n",
    "\n",
    "```\n",
    "conda env create --name NAMEOFYOURCHOICE -f cs145hw4.yml \n",
    "conda activate NAMEOFYOURCHOICE\n",
    "conda deactivate\n",
    "```\n",
    "To view the list of your environments, use the following command:\n",
    "```\n",
    "conda env list\n",
    "```\n",
    "\n",
    "More useful information about managing environments can be found [here](https://docs.conda.io/projects/conda/en/latest/user-guide/tasks/manage-environments.html).\n",
    "\n",
    "You may also quickly review the usage of basic Python and Numpy package, if needed in coding for matrix operations.\n",
    "\n",
    "In this notebook, you must not delete any code cells in this notebook. If you change any code outside the blocks (such as some important hyperparameters) that you are allowed to edit (between STRART/END YOUR CODE HERE), you need to highlight these changes. You may add some additional cells to help explain your results and observations."
   ]
  },
  {
   "cell_type": "code",
   "execution_count": 25,
   "metadata": {},
   "outputs": [
    {
     "name": "stdout",
     "output_type": "stream",
     "text": [
      "The autoreload extension is already loaded. To reload it, use:\n",
      "  %reload_ext autoreload\n"
     ]
    }
   ],
   "source": [
    "import numpy as np \n",
    "import pandas as pd\n",
    "import sys \n",
    "import random\n",
    "import math\n",
    "import matplotlib.pyplot as plt\n",
    "from scipy.stats import multivariate_normal\n",
    "%load_ext autoreload\n",
    "%autoreload 2"
   ]
  },
  {
   "cell_type": "markdown",
   "metadata": {},
   "source": [
    "If you can successfully run the code above, there will be no problem for environment setting."
   ]
  },
  {
   "cell_type": "markdown",
   "metadata": {},
   "source": [
    "## 1. Clustering Evaluation\n",
    "This workbook will walk you through an example for calculating different clustering metrics. \n",
    "\n",
    "<span style=\"color:red\"> Note: This is a \"question-answer\" style problem. You do not need to code anything and you are required to calculate by hand (with a scientific calculator). </span>"
   ]
  },
  {
   "cell_type": "markdown",
   "metadata": {},
   "source": [
    "**Questions**\n",
    "\n",
    "\n",
    "Suppose we want to cluster the following 20 conferences into four areas, with ground truth label and algorithm output label shown in third and fourth column. Please evaluate the quality of the clustering algorithm according to four different metrics respectively.<img src=\"conferences.png\"  width=\"600\"/>"
   ]
  },
  {
   "cell_type": "markdown",
   "metadata": {},
   "source": [
    "\n",
    "**Questions (please include intermediate steps)**\n",
    "\n"
   ]
  },
  {
   "cell_type": "markdown",
   "metadata": {},
   "source": [
    "1. Calculate purity.\n",
    "2. Calculate precision.\n",
    "3. Calculate recall.\n",
    "4. Calculate F1-score.\n",
    "5. Calculate normalized mutual information."
   ]
  },
  {
   "cell_type": "code",
   "execution_count": 21,
   "metadata": {},
   "outputs": [
    {
     "name": "stdout",
     "output_type": "stream",
     "text": [
      "{'count': 190, 'tp': 32, 'fp': 9, 'tn': 141, 'fn': 8}\n",
      "{'truth': {3: [0, 1, 6, 7, 14], 1: [2, 3, 4, 12, 16], 4: [5, 8, 10, 18, 19], 2: [9, 11, 13, 15, 17]}, 'output': {2: [0, 1, 6, 7, 14, 16], 3: [2, 3, 4, 8, 12], 4: [5, 10, 18, 19], 1: [9, 11, 13, 15, 17]}}\n",
      "0.8152212305376372\n"
     ]
    }
   ],
   "source": [
    "ground_truth = [3,3,1,1,1,4,3,3,4,2,4,2,1,2,3,2,1,2,4,4]\n",
    "output = [2,2,3,3,3,4,2,2,3,1,4,1,3,1,2,1,2,1,4,4]\n",
    "\n",
    "def info(truth, ouptut):\n",
    "    result = {'count':0, 'tp':0, 'fp':0, 'tn':0, 'fn':0}\n",
    "    for i in range(len(truth)):\n",
    "        for j in range(len(output)):\n",
    "            # avoid repetitve pair\n",
    "            if i < j:\n",
    "                if truth[i] == truth[j]:\n",
    "                    if output[i] == output[j]:\n",
    "                        result['tp'] += 1\n",
    "                    else:\n",
    "                        result['fn'] += 1\n",
    "                else:\n",
    "                    if output[i] == output[j]:\n",
    "                        result['fp'] += 1\n",
    "                    else:\n",
    "                        result['tn'] += 1\n",
    "                result['count']+= 1\n",
    "    return result\n",
    "\n",
    "\n",
    "def table(truth, output):\n",
    "    result = dict()\n",
    "    truth_table = dict()\n",
    "    output_table = dict()\n",
    "    for i in range(len(truth)):\n",
    "        if truth[i] not in truth_table:\n",
    "            truth_table[truth[i]] = list()\n",
    "        truth_table[truth[i]].append(i)\n",
    "    for j in range(len(output)):\n",
    "        if output[j] not in output_table:\n",
    "            output_table[output[j]] = list()\n",
    "        output_table[output[j]].append(j)\n",
    "    result['truth'] = truth_table\n",
    "    result['output'] = output_table\n",
    "    return result\n",
    "\n",
    "\n",
    "def nmi(table, total):\n",
    "    # I\n",
    "    i = 0.\n",
    "    for truth_label in table['truth'].keys():\n",
    "        for output_label in table['output'].keys():\n",
    "            truth_values = table['truth'][truth_label]\n",
    "            output_values = table['output'][output_label]\n",
    "            common = float(len(list(set(truth_values).intersection(output_values))))\n",
    "            cur = common / total * np.log(total*common/len(truth_values)/len(output_values)) if common != 0 else 0\n",
    "            i += cur\n",
    "            \n",
    "    # calculate entropy\n",
    "    h_truth = 0.\n",
    "    for truth_label in table['truth'].keys():\n",
    "        truth_length = float(len(table['truth'][truth_label]))\n",
    "        h_truth -= (truth_length/total*np.log(truth_length/total))\n",
    "    h_output = 0.\n",
    "    for output_label in table['output'].keys():\n",
    "        output_length = float(len(table['output'][output_label]))\n",
    "        h_output -= (output_length/total*np.log(output_length/total))\n",
    "    \n",
    "    nmi = i/np.sqrt(h_truth*h_output)\n",
    "    return nmi\n",
    "\n",
    "\n",
    "table = table(ground_truth, output)\n",
    "info = info(ground_truth,output)\n",
    "print(info)\n",
    "print(table)\n",
    "print(nmi(table, len(output)))"
   ]
  },
  {
   "cell_type": "markdown",
   "metadata": {},
   "source": [
    "***Purity***\n",
    "\n",
    "output cluster 1: 10,12,14,16,18 ---> 5 matched with ground truth 2 \n",
    "\n",
    "output cluster 2: 1,2,7,8,15,17 ---> 5 matched with ground truth 3\n",
    "\n",
    "output cluster 3: 3,4,5,9,13 ---> 4 matched with ground truth 1\n",
    "\n",
    "output cluster 4: 6,11,19,20 ---> 4 mathced with ground truth 4\n",
    "\n",
    "Purity = $\\frac{1}{N}\\sum_k max|c_k \\cap \\omega_j|$ = 18/20 = 0.9"
   ]
  },
  {
   "cell_type": "markdown",
   "metadata": {},
   "source": [
    "***Precision***\n",
    "\n",
    "Precision = TP/(TP+FP) = 32/(32+9) = 32/41 = 0.78049"
   ]
  },
  {
   "cell_type": "markdown",
   "metadata": {},
   "source": [
    "***Recall***\n",
    "\n",
    "Recall = TP/(TP+FN) = 32/(32+8) = 32/40 = 0.8"
   ]
  },
  {
   "cell_type": "markdown",
   "metadata": {},
   "source": [
    "***F1-score***\n",
    "\n",
    "F1-score = 2*precision*recall / (precision+recall) = 0.79012"
   ]
  },
  {
   "cell_type": "markdown",
   "metadata": {},
   "source": [
    "***NMI***\n",
    "We used script above to calculate NMI = 0.81522"
   ]
  },
  {
   "cell_type": "markdown",
   "metadata": {},
   "source": [
    "**Your answer here:**\n"
   ]
  },
  {
   "cell_type": "markdown",
   "metadata": {},
   "source": [
    "<span style=\"color:red\"> Note: you can use several code cells to help you compute the results and answer the questions. Again you don't need to do any coding. </span>"
   ]
  },
  {
   "cell_type": "markdown",
   "metadata": {},
   "source": [
    "<span style=\"color:blue\"> Please type your answer here! </span>"
   ]
  },
  {
   "cell_type": "markdown",
   "metadata": {},
   "source": [
    "answer 1: Purity is 0.9"
   ]
  },
  {
   "cell_type": "markdown",
   "metadata": {},
   "source": [
    "answer 2: Precision is 0.7809"
   ]
  },
  {
   "cell_type": "markdown",
   "metadata": {},
   "source": [
    "answer 3: Recall is 0.8"
   ]
  },
  {
   "cell_type": "markdown",
   "metadata": {},
   "source": [
    "answer 4: F1-score is 0.79012"
   ]
  },
  {
   "cell_type": "markdown",
   "metadata": {},
   "source": [
    "answer 5: NMI is 0.81522"
   ]
  },
  {
   "cell_type": "markdown",
   "metadata": {},
   "source": [
    "## 2. K-means"
   ]
  },
  {
   "cell_type": "markdown",
   "metadata": {},
   "source": [
    "In this section, we are going to apply K-means algorithm against two datasets (dataset1.txt, dataset2.txt) with different distributions, respectively. \n",
    "\n",
    "\n",
    "For each dataset, it contains 3 columns, with the format: x1 \\t x2 \\t cluster_label. You need to use the first two columns for clustering, and the last column for evaluation.\n"
   ]
  },
  {
   "cell_type": "code",
   "execution_count": 32,
   "metadata": {
    "scrolled": true
   },
   "outputs": [
    {
     "name": "stdout",
     "output_type": "stream",
     "text": [
      "\n",
      "For dataset1: number of datapoints is 150\n",
      "          x         y  ground_truth_cluster\n",
      "0 -0.163880 -0.219869                     1\n",
      "1 -0.886274 -0.356186                     1\n",
      "2 -0.978910 -0.893314                     1\n",
      "3 -0.658867 -0.371122                     1\n",
      "4 -0.072518  0.399157                     1\n",
      "\n",
      "For dataset2: number of datapoints is 200\n",
      "          x         y  ground_truth_cluster\n",
      "0  1.068587  0.136921                     1\n",
      "1  0.705440  0.393068                     1\n",
      "2  0.840811 -0.054906                     1\n",
      "3 -0.923447  0.598501                     1\n",
      "4  0.784353  0.724743                     1\n"
     ]
    }
   ],
   "source": [
    "from hw4code.KMeans import KMeans\n",
    "k = KMeans()\n",
    "# As a sanity check, we print out a sample of each dataset\n",
    "dataname1 = \"data/dataset1.txt\"\n",
    "dataname2 = \"data/dataset2.txt\"\n",
    "k.check_dataloader(dataname1)\n",
    "k.check_dataloader(dataname2)"
   ]
  },
  {
   "cell_type": "markdown",
   "metadata": {},
   "source": [
    "### 2.1 Coding K-means"
   ]
  },
  {
   "cell_type": "markdown",
   "metadata": {},
   "source": [
    "Complete the `reassignClusters` and `getCentroid` function in `KMeans.py`. \n",
    "\n",
    "Print out each output cluster's size and centroid（x,y) for dataset1 and dataset2 respectively."
   ]
  },
  {
   "cell_type": "code",
   "execution_count": 33,
   "metadata": {},
   "outputs": [
    {
     "name": "stdout",
     "output_type": "stream",
     "text": [
      "\n",
      "For dataset1\n",
      "Iteration :4\n",
      "Cluster 0 size :50\n",
      "Centroid [x=2.5737264423871213, y=-0.027462568841232982]\n",
      "Cluster 1 size :50\n",
      "Centroid [x=-0.4633368646347211, y=-0.466114096981958]\n",
      "Cluster 2 size :50\n",
      "Centroid [x=0.9888766205736857, y=2.0104789651972013]\n",
      "\n",
      "For dataset2\n",
      "Iteration :3\n",
      "Cluster 0 size :102\n",
      "Centroid [x=1.2708406269481842, y=-0.08583389704900131]\n",
      "Cluster 1 size :98\n",
      "Centroid [x=-0.2018593506236787, y=0.5726963240559536]\n"
     ]
    }
   ],
   "source": [
    "k = KMeans()\n",
    "#========================#\n",
    "# STRART YOUR CODE HERE  #\n",
    "#========================#\n",
    "k.main(dataname1)\n",
    "k.main(dataname2)\n",
    "#========================#\n",
    "#   END YOUR CODE HERE   #\n",
    "#========================# "
   ]
  },
  {
   "cell_type": "markdown",
   "metadata": {},
   "source": [
    "### 2.2 Purity and NMI Evaluation"
   ]
  },
  {
   "cell_type": "markdown",
   "metadata": {},
   "source": [
    "Complete the `compute_purity` function in `KMeans.py`. \n",
    "\n",
    "In order to compute NMI, you need to firstly compute NMI matrix and then do the calculation. That is to complete the `getNMIMatrix` and `calcNMI` functions in `KMeans.py`.\n",
    "\n",
    "Print out the purity and NMI for each dataset respectively."
   ]
  },
  {
   "cell_type": "code",
   "execution_count": 34,
   "metadata": {},
   "outputs": [
    {
     "name": "stdout",
     "output_type": "stream",
     "text": [
      "\n",
      "For dataset1\n",
      "Iteration :4\n",
      "Purity is 0.040000\n",
      "NMI is 1.000000\n",
      "Cluster 0 size :50\n",
      "Centroid [x=2.5737264423871213, y=-0.027462568841232982]\n",
      "Cluster 1 size :50\n",
      "Centroid [x=-0.4633368646347211, y=-0.466114096981958]\n",
      "Cluster 2 size :50\n",
      "Centroid [x=0.9888766205736857, y=2.0104789651972013]\n",
      "\n",
      "For dataset2\n",
      "Iteration :3\n",
      "Purity is 0.015000\n",
      "NMI is 0.205096\n",
      "Cluster 0 size :102\n",
      "Centroid [x=1.2708406269481842, y=-0.08583389704900131]\n",
      "Cluster 1 size :98\n",
      "Centroid [x=-0.2018593506236787, y=0.5726963240559536]\n"
     ]
    }
   ],
   "source": [
    "k = KMeans()\n",
    "#========================#\n",
    "# STRART YOUR CODE HERE  #\n",
    "#========================#\n",
    "k.main(dataname1, True)\n",
    "k.main(dataname2, True)\n",
    "#========================#\n",
    "#   END YOUR CODE HERE   #\n",
    "#========================# "
   ]
  },
  {
   "cell_type": "markdown",
   "metadata": {},
   "source": [
    "### 2.3 Visualization"
   ]
  },
  {
   "cell_type": "markdown",
   "metadata": {},
   "source": [
    "The clustering results for KMeans are saved as `KMeans_dataset1.csv` and `KMeans_dataset2.csv` respectively under your root folder. Plot the clustering results for the two datasets, with different colors representing different clusters."
   ]
  },
  {
   "cell_type": "code",
   "execution_count": 36,
   "metadata": {},
   "outputs": [
    {
     "data": {
      "image/png": "[encoded data removed]",
      "text/plain": [
       "<Figure size 1080x432 with 2 Axes>"
      ]
     },
     "metadata": {
      "needs_background": "light"
     },
     "output_type": "display_data"
    }
   ],
   "source": [
    "CSV_FILE_PATH1 = 'Kmeans_dataset1.csv'\n",
    "CSV_FILE_PATH2 = 'Kmeans_dataset2.csv'\n",
    "\n",
    "df1 = pd.read_csv(CSV_FILE_PATH1,header=None,names=['x','y','pred'])\n",
    "df2 = pd.read_csv(CSV_FILE_PATH2,header=None,names=['x','y','pred'])\n",
    "fig, [ax0,ax1] = plt.subplots(1, 2, figsize=(15, 6))\n",
    "ax0.title.set_text(\"KMeans_Dataset1\")\n",
    "ax1.title.set_text(\"KMeans_Dataset2\")\n",
    "\n",
    "#========================#\n",
    "# STRART YOUR CODE HERE  #\n",
    "#========================#\n",
    "groups1 = df1.groupby('pred')\n",
    "for name, group in groups1:\n",
    "    ax0.plot(group[\"x\"], group[\"y\"], marker=\"o\", linestyle=\"\", label=name)\n",
    "\n",
    "groups2 = df2.groupby('pred')\n",
    "for name, group in groups2:\n",
    "    ax1.plot(group[\"x\"], group[\"y\"], marker=\"o\", linestyle=\"\",label=name)\n",
    "#========================#\n",
    "#   END YOUR CODE HERE   #\n",
    "#========================# \n",
    "plt.show()\n",
    "    "
   ]
  },
  {
   "cell_type": "markdown",
   "metadata": {},
   "source": [
    "**Question** \n"
   ]
  },
  {
   "cell_type": "markdown",
   "metadata": {},
   "source": [
    "Give the pros and cons of K-means algorithm. (At least one for pro and two for cons to get full marks)\n"
   ]
  },
  {
   "cell_type": "markdown",
   "metadata": {},
   "source": [
    "**Your answer here**\n"
   ]
  },
  {
   "cell_type": "markdown",
   "metadata": {},
   "source": [
    "<span style=\"color:blue\"> Please type your answer here! </span>"
   ]
  },
  {
   "cell_type": "markdown",
   "metadata": {},
   "source": [
    "Pros: \n",
    "1. Efficient: time complexity for K-means is O(tkn) which is close to O(n) as t,k <<< n usually.\n",
    "2. Simple: it is easy to implement the algorithm."
   ]
  },
  {
   "cell_type": "markdown",
   "metadata": {},
   "source": [
    "Cons:\n",
    "1. Sensitive to noise and outlier data.\n",
    "2. Not suitable for cluster with non-convex shapes\n",
    "3. Needs to specify the number of k before training"
   ]
  },
  {
   "cell_type": "markdown",
   "metadata": {},
   "source": [
    "## 3 DBSCAN"
   ]
  },
  {
   "cell_type": "markdown",
   "metadata": {},
   "source": [
    "In this section, we are going to use DBSCAN for clustering the same two datasets. \n",
    "\n"
   ]
  },
  {
   "cell_type": "markdown",
   "metadata": {},
   "source": [
    "### 3.1 Coding DBSCAN"
   ]
  },
  {
   "cell_type": "markdown",
   "metadata": {},
   "source": [
    "Complete the `dbscan` function in `DBSCAN.py`. Print out the purity, NMI and cluter size for each dataset respectively."
   ]
  },
  {
   "cell_type": "code",
   "execution_count": 37,
   "metadata": {
    "scrolled": true
   },
   "outputs": [
    {
     "name": "stdout",
     "output_type": "stream",
     "text": [
      "\n",
      "For dataset1\n",
      "Esp :0.3560832705047313\n",
      "Number of clusters formed :4\n",
      "Noise points :11\n",
      "Purity is 0.060000\n",
      "NMI is 0.959065\n",
      "Cluster 0 size :49\n",
      "Cluster 1 size :41\n",
      "Cluster 2 size :47\n",
      "Cluster 3 size :4\n",
      "\n",
      "For dataset2\n",
      "Esp :0.18652096476712493\n",
      "Number of clusters formed :3\n",
      "Noise points :3\n",
      "Purity is 0.020000\n",
      "NMI is 0.817349\n",
      "Cluster 0 size :99\n",
      "Cluster 1 size :51\n",
      "Cluster 2 size :47\n"
     ]
    }
   ],
   "source": [
    "from hw4code.DBSCAN import DBSCAN\n",
    "d = DBSCAN()\n",
    "#========================#\n",
    "# STRART YOUR CODE HERE  #\n",
    "#========================#\n",
    "d.main(dataname1)\n",
    "d.main(dataname2)\n",
    "#========================#\n",
    "#   END YOUR CODE HERE   #\n",
    "#========================# "
   ]
  },
  {
   "cell_type": "markdown",
   "metadata": {},
   "source": [
    "### 3.2 Visualization"
   ]
  },
  {
   "cell_type": "markdown",
   "metadata": {},
   "source": [
    "The clustering results for DBSCAN are saved as `DBSCAN_dataset1.csv` and `DBSCAN_dataset2.csv` respectively under your root folder. Plot the clustering results for the two datasets, with different colors representing different clusters."
   ]
  },
  {
   "cell_type": "code",
   "execution_count": 38,
   "metadata": {},
   "outputs": [
    {
     "data": {
      "image/png": "[encoded data removed]",
      "text/plain": [
       "<Figure size 1080x432 with 2 Axes>"
      ]
     },
     "metadata": {
      "needs_background": "light"
     },
     "output_type": "display_data"
    }
   ],
   "source": [
    "CSV_FILE_PATH1 = 'DBSCAN_dataset1.csv'\n",
    "CSV_FILE_PATH2 = 'DBSCAN_dataset2.csv'\n",
    "\n",
    "df1 = pd.read_csv(CSV_FILE_PATH1,header=None,names=['x','y','pred'])\n",
    "df2 = pd.read_csv(CSV_FILE_PATH2,header=None,names=['x','y','pred'])\n",
    "fig, [ax0,ax1] = plt.subplots(1, 2, figsize=(15, 6))\n",
    "ax0.title.set_text(\"DBSCAN_Dataset1\")\n",
    "ax1.title.set_text(\"DBSCAN_Dataset2\")\n",
    "\n",
    "#========================#\n",
    "# STRART YOUR CODE HERE  #\n",
    "#========================#\n",
    "groups1 = df1.groupby('pred')\n",
    "for name, group in groups1:\n",
    "    ax0.plot(group[\"x\"], group[\"y\"], marker=\"o\", linestyle=\"\", label=name)\n",
    "\n",
    "groups2 = df2.groupby('pred')\n",
    "for name, group in groups2:\n",
    "    ax1.plot(group[\"x\"], group[\"y\"], marker=\"o\", linestyle=\"\",label=name)\n",
    "#========================#\n",
    "#   END YOUR CODE HERE   #\n",
    "#========================# \n",
    "plt.show()\n",
    "    \n",
    "    \n",
    "    "
   ]
  },
  {
   "cell_type": "markdown",
   "metadata": {},
   "source": [
    "**Question** \n"
   ]
  },
  {
   "cell_type": "markdown",
   "metadata": {},
   "source": [
    "Give the pros and cons of DBSCAN algorithm. (At least two for pro and one for cons to get full marks)\n"
   ]
  },
  {
   "cell_type": "markdown",
   "metadata": {},
   "source": [
    "**Your answer here**\n"
   ]
  },
  {
   "cell_type": "markdown",
   "metadata": {},
   "source": [
    "<span style=\"color:blue\"> Please type your answer here! </span>"
   ]
  },
  {
   "cell_type": "markdown",
   "metadata": {},
   "source": [
    "Pros:\n",
    "1. Does not need to specify number of k before.\n",
    "2. Robust to outlier and noise."
   ]
  },
  {
   "cell_type": "markdown",
   "metadata": {},
   "source": [
    "Cons:\n",
    "1. Has requirement of high density of dataset, also has problem with dataset with varying densities."
   ]
  },
  {
   "cell_type": "markdown",
   "metadata": {},
   "source": [
    "## 4 GMM"
   ]
  },
  {
   "cell_type": "markdown",
   "metadata": {},
   "source": [
    "In this section, we are going to use GMM for clustering the same two datasets. \n",
    "\n"
   ]
  },
  {
   "cell_type": "markdown",
   "metadata": {},
   "source": [
    "### 4.1 Coding GMM"
   ]
  },
  {
   "cell_type": "markdown",
   "metadata": {},
   "source": [
    "Complete the `Estep` and 'Mstep' function in `GMM.py`. Print out the purity, NMI, final mean, covariance and cluter size for each dataset respectively."
   ]
  },
  {
   "cell_type": "code",
   "execution_count": 40,
   "metadata": {
    "scrolled": true
   },
   "outputs": [
    {
     "name": "stdout",
     "output_type": "stream",
     "text": [
      "\n",
      "For dataset1\n",
      "Number of Iterations = 22\n",
      "\n",
      "After Calculations\n",
      "Final mean = \n",
      "-0.46247285694404044 \n",
      "-0.4638749980764899 \n",
      "\n",
      "0.9898929396029765 \n",
      "2.011802723814242 \n",
      "\n",
      "2.57342634413319 \n",
      "-0.027108746076609493 \n",
      "\n",
      "\n",
      "Final covariance = \n",
      "For Cluster : 1\n",
      "0.14918910487220216 \n",
      "0.1173463005433889 \n",
      "\n",
      "0.1173463005433889 \n",
      "0.215548612531075 \n",
      "\n",
      "\n",
      "For Cluster : 2\n",
      "0.16028233507625483 \n",
      "0.07486967581052756 \n",
      "\n",
      "0.07486967581052756 \n",
      "0.13939774162738802 \n",
      "\n",
      "\n",
      "For Cluster : 3\n",
      "0.18039223672749394 \n",
      "-0.04672614559811056 \n",
      "\n",
      "-0.04672614559811056 \n",
      "0.15206459963738586 \n",
      "\n",
      "\n",
      "Purity is 0.040000\n",
      "NMI is 1.000000\n",
      "Cluster 0 size :50\n",
      "Cluster 1 size :50\n",
      "Cluster 2 size :50\n",
      "\n",
      "For dataset2\n",
      "Number of Iterations = 95\n",
      "\n",
      "After Calculations\n",
      "Final mean = \n",
      "0.7464905663922623 \n",
      "0.4564966584854106 \n",
      "\n",
      "0.2828785188939104 \n",
      "-0.05970560727188728 \n",
      "\n",
      "\n",
      "Final covariance = \n",
      "For Cluster : 1\n",
      "0.7692790765358334 \n",
      "-0.2878280964238211 \n",
      "\n",
      "-0.2878280964238211 \n",
      "0.1901249384356507 \n",
      "\n",
      "\n",
      "For Cluster : 2\n",
      "0.68285747576287 \n",
      "-0.3005891599439051 \n",
      "\n",
      "-0.3005891599439051 \n",
      "0.17583559485120057 \n",
      "\n",
      "\n",
      "Purity is 0.015000\n",
      "NMI is 0.107406\n",
      "Cluster 0 size :106\n",
      "Cluster 1 size :94\n"
     ]
    }
   ],
   "source": [
    "from hw4code.GMM import GMM\n",
    "g = GMM()\n",
    "#========================#\n",
    "# STRART YOUR CODE HERE  #\n",
    "#========================#\n",
    "g.main(dataname1)\n",
    "g.main(dataname2)\n",
    "#========================#\n",
    "#   END YOUR CODE HERE   #\n",
    "#========================# "
   ]
  },
  {
   "cell_type": "markdown",
   "metadata": {},
   "source": [
    "### 4.2 Visualization"
   ]
  },
  {
   "cell_type": "markdown",
   "metadata": {},
   "source": [
    "The clustering results for GMM are saved as `GMM_dataset1.csv` and `GMM_dataset2.csv` respectively under your root folder. Plot the clustering results for the two datasets, with different colors representing different clusters."
   ]
  },
  {
   "cell_type": "code",
   "execution_count": 41,
   "metadata": {},
   "outputs": [
    {
     "data": {
      "image/png": "[encoded data removed]",
      "text/plain": [
       "<Figure size 1080x432 with 2 Axes>"
      ]
     },
     "metadata": {
      "needs_background": "light"
     },
     "output_type": "display_data"
    }
   ],
   "source": [
    "CSV_FILE_PATH1 = 'GMM_dataset1.csv'\n",
    "CSV_FILE_PATH2 = 'GMM_dataset2.csv'\n",
    "\n",
    "df1 = pd.read_csv(CSV_FILE_PATH1,header=None,names=['x','y','pred'])\n",
    "df2 = pd.read_csv(CSV_FILE_PATH2,header=None,names=['x','y','pred'])\n",
    "fig, [ax0,ax1] = plt.subplots(1, 2, figsize=(15, 6))\n",
    "ax0.title.set_text(\"GMM_Dataset1\")\n",
    "ax1.title.set_text(\"GMM_Dataset2\")\n",
    "\n",
    "#========================#\n",
    "# STRART YOUR CODE HERE  #\n",
    "#========================#\n",
    "groups1 = df1.groupby('pred')\n",
    "for name, group in groups1:\n",
    "    ax0.plot(group[\"x\"], group[\"y\"], marker=\"o\", linestyle=\"\", label=name)\n",
    "\n",
    "groups2 = df2.groupby('pred')\n",
    "for name, group in groups2:\n",
    "    ax1.plot(group[\"x\"], group[\"y\"], marker=\"o\", linestyle=\"\",label=name)\n",
    "#========================#\n",
    "#   END YOUR CODE HERE   #\n",
    "#========================# \n",
    "plt.show()\n",
    "    \n",
    "    \n",
    "    "
   ]
  },
  {
   "cell_type": "markdown",
   "metadata": {},
   "source": [
    "\n",
    "**Questions**\n",
    "\n"
   ]
  },
  {
   "cell_type": "markdown",
   "metadata": {},
   "source": [
    "1. Give the pros and cons of GMM algorithm. (At least two for pro and two for cons to get full marks)\n",
    "2. Compare the visualization results from three algorithms, analyze for each dataset why these algorithms would produce such result."
   ]
  },
  {
   "cell_type": "markdown",
   "metadata": {},
   "source": [
    "**Your answer here:**\n"
   ]
  },
  {
   "cell_type": "markdown",
   "metadata": {},
   "source": [
    "<span style=\"color:blue\"> Please type your answer here! </span>"
   ]
  },
  {
   "cell_type": "markdown",
   "metadata": {},
   "source": [
    "Pros of GMM:\n",
    "1. Models are more general, so it can deal with different densities and sizes of cluster.\n",
    "2. Clusters can be characterized by a small number of parameters.\n",
    "3. The result may satisfy the statistical asssumptions of the generative models."
   ]
  },
  {
   "cell_type": "markdown",
   "metadata": {},
   "source": [
    "Cons of GMM:\n",
    "1. It will converge to local optimal isntead of global.\n",
    "2. Can only deal with spherical clusters.\n",
    "3. Hard to estimate the number of clusters."
   ]
  },
  {
   "cell_type": "markdown",
   "metadata": {},
   "source": [
    "Reasoning over dataset1:\n",
    "1. K-means: each of the three clusters are relatively far from each other while close inside the cluster, so the local optimum k-means reach is the global one this case.\n",
    "2. DBSCAN: same reason that the three clusters are relatively far from each other. DBSCAN marks some outlier of each cluster and some points that are relatively between the cluster as noise as they are not density-reachable for given eps and minpts.\n",
    "3. GMM: same reason that the clusters are far from each other making the final result the only possible local optimal for GMM. "
   ]
  },
  {
   "cell_type": "markdown",
   "metadata": {},
   "source": [
    "Reasoning over dataset2:\n",
    "1. K-means: the points are relatively uniformly distributed which makes k-means tend to create 2 cluster by just breaking the points in half by a linear separater.\n",
    "2. DBSCAN: There is break in the upper half of the points which make DBSCAN cluster the upper swirl into two clusters while the bottom one is more densily-connected so clustered together. And there is certian space between the upper and bottom swirl so DBSCAN captures that and makes some points in between as noise.\n",
    "3. GMM: similar reason to K-means. K-means reach the local optimal by simply breaking the points in two halves by a relaitively linear separator."
   ]
  },
  {
   "cell_type": "markdown",
   "metadata": {},
   "source": [
    "## 5 Bonus Question"
   ]
  },
  {
   "cell_type": "markdown",
   "metadata": {},
   "source": [
    "Prove that KMeans algorithm would guarantee covergence. (**Hint: prove for each step the loss would descrease.**)"
   ]
  },
  {
   "cell_type": "markdown",
   "metadata": {},
   "source": [
    "$J = \\sum_{j=1}^k\\sum_iw_{ij}||x_i-c_j||^2$ as $w_{ij}=1$ if $x_i$ belongs to cluster j is the loss function.\n",
    "\n",
    "Let $J_i$ be the loss in i-th iteration, $c_{ix}$ be the center assigned to x in i-th iteration.\n",
    "\n",
    "Then $J_{i+1}-J_i$ =  $\\sum||x-c_{(i+1)x}||^2 - ||x-c_{ix}||^2$ \n",
    "\n",
    "As $c_{(i+1)x}$ is created by $argmin_c(argmin_w(c_{ix}))$, then  $\\sum||x-c_{(i+1)x}||^2 - ||x-c_{ix}||^2 \\leq 0$ and only =0 when $c_{(i+1)x} = c_{ix}$ for all x which is the stopping condition. \n",
    "\n",
    "Because J always  $\\geq 0$. Then the algortihm can converge as loss function is monotonically decreasing until it reaches the stopping/optimal/minimal conidtion."
   ]
  },
  {
   "cell_type": "markdown",
   "metadata": {},
   "source": [
    "# End of Homework 4 :)\n",
    "After you've finished the homework, please print out the entire `ipynb` notebook and four `py` files into one PDF file. Make sure you include the output of code cells and answers for questions. Prepare submit it to GradeScope. Also this time remember assign the pages to the questions on GradeScope"
   ]
  },
  {
   "cell_type": "code",
   "execution_count": null,
   "metadata": {},
   "outputs": [],
   "source": []
  }
 ],
 "metadata": {
  "kernelspec": {
   "display_name": "Python 3",
   "language": "python",
   "name": "python3"
  },
  "language_info": {
   "codemirror_mode": {
    "name": "ipython",
    "version": 3
   },
   "file_extension": ".py",
   "mimetype": "text/x-python",
   "name": "python",
   "nbconvert_exporter": "python",
   "pygments_lexer": "ipython3",
   "version": "3.6.8"
  }
 },
 "nbformat": 4,
 "nbformat_minor": 4
}
