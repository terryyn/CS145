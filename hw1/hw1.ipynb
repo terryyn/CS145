{
 "cells": [
  {
   "cell_type": "markdown",
   "metadata": {},
   "source": [
    "# CS145 Howework 1 \n",
    "\n",
    "<span style=\"color:red\"> **Important Note:** </span>\n",
    "HW1 is due on **11:59 PM PT, Oct 19 (Monday, Week 3)**. Please submit through GradeScope (you will receive an invite to Gradescope for CS145 Fall 2020.). \n",
    "\n",
    "## Print Out Your Name and UID\n",
    "\n",
    "<span style=\"color:blue\"> **Name: Terry Ye, UID: 004757414** </span>\n",
    "\n",
    "## Before You Start\n",
    "\n",
    "You need to first create HW1 conda environment by the given `cs145hw1.yml` file, which provides the name and necessary packages for this tasks. If you have `conda` properly installed, you may create, activate or deactivate by the following commands:\n",
    "\n",
    "```\n",
    "conda env create -f cs145hw1.yml\n",
    "conda activate hw1\n",
    "conda deactivate\n",
    "```\n",
    "OR \n",
    "\n",
    "```\n",
    "conda env create --name NAMEOFYOURCHOICE -f cs145hw1.yml \n",
    "conda activate NAMEOFYOURCHOICE\n",
    "conda deactivate\n",
    "```\n",
    "To view the list of your environments, use the following command:\n",
    "```\n",
    "conda env list\n",
    "```\n",
    "\n",
    "More useful information about managing environments can be found [here](https://docs.conda.io/projects/conda/en/latest/user-guide/tasks/manage-environments.html).\n",
    "\n",
    "You may also quickly review the usage of basic Python and Numpy package, if needed in coding for matrix operations.\n",
    "\n",
    "In this notebook, you must not delete any code cells in this notebook. If you change any code outside the blocks that you are allowed to edit (between `STRART/END YOUR CODE HERE`), you need to highlight these changes. You may add some additional cells to help explain your results and observations."
   ]
  },
  {
   "cell_type": "code",
   "execution_count": 1,
   "metadata": {},
   "outputs": [],
   "source": [
    "import numpy as np \n",
    "import pandas as pd\n",
    "import sys \n",
    "import random as rd\n",
    "import matplotlib.pyplot as plt\n",
    "%load_ext autoreload\n",
    "%autoreload 2"
   ]
  },
  {
   "cell_type": "markdown",
   "metadata": {},
   "source": [
    "If you can successfully run the code above, there will be no problem for environment setting."
   ]
  },
  {
   "cell_type": "markdown",
   "metadata": {},
   "source": [
    "## 1. Linear regression \n",
    "This workbook will walk you through a linear regression example. "
   ]
  },
  {
   "cell_type": "code",
   "execution_count": 2,
   "metadata": {},
   "outputs": [
    {
     "name": "stdout",
     "output_type": "stream",
     "text": [
      "Training data shape:  (1000, 100)\n",
      "Training labels shape: (1000,)\n"
     ]
    }
   ],
   "source": [
    "from hw1code.linear_regression import LinearRegression\n",
    "\n",
    "lm=LinearRegression()\n",
    "lm.load_data('./data/linear-regression-train.csv','./data/linear-regression-test.csv')\n",
    "# As a sanity check, we print out the size of the training data (1000, 100) and training labels (1000,)\n",
    "print('Training data shape: ', lm.train_x.shape)\n",
    "print('Training labels shape:', lm.train_y.shape)"
   ]
  },
  {
   "cell_type": "code",
   "execution_count": 3,
   "metadata": {},
   "outputs": [],
   "source": [
    "def train_and_predict(lm, beta):\n",
    "    train_predict_y = lm.predict(lm.train_x, beta)\n",
    "    test_predict_y = lm.predict(lm.test_x, beta)\n",
    "    training_error = lm.compute_mse(train_predict_y, lm.train_y)\n",
    "    testing_error = lm.compute_mse(test_predict_y, lm.test_y)\n",
    "    return training_error, testing_error"
   ]
  },
  {
   "cell_type": "markdown",
   "metadata": {},
   "source": [
    "### 1.1 Closed form solution\n",
    "In this section, complete the `getBeta` function in `linear_regression.py` which use the close for solution of $\\hat{\\beta}$.\n",
    "\n",
    "Train you model by using `lm.train('0')` function.\n",
    "\n",
    "Print the training error and the testing error using `lm.predict` and `lm.compute_mse` given."
   ]
  },
  {
   "cell_type": "code",
   "execution_count": 4,
   "metadata": {},
   "outputs": [
    {
     "name": "stdout",
     "output_type": "stream",
     "text": [
      "Learning Algorithm Type:  0\n",
      "Training error is:  0.08693886675396784\n",
      "Testing error is:  0.11017540281675803\n"
     ]
    }
   ],
   "source": [
    "from hw1code.linear_regression import LinearRegression\n",
    "\n",
    "lm=LinearRegression()\n",
    "lm.load_data('./data/linear-regression-train.csv','./data/linear-regression-test.csv')\n",
    "training_error= 0\n",
    "testing_error= 0\n",
    "#========================#\n",
    "# STRART YOUR CODE HERE  #\n",
    "#========================#\n",
    "beta = lm.train('0')\n",
    "training_error, testing_error = train_and_predict(lm, beta)\n",
    "#========================#\n",
    "#   END YOUR CODE HERE   #\n",
    "#========================# \n",
    "print('Training error is: ', training_error)\n",
    "print('Testing error is: ', testing_error)"
   ]
  },
  {
   "cell_type": "markdown",
   "metadata": {},
   "source": [
    "### 1.2 Batch gradient descent\n",
    "In this section, complete the `getBetaBatchGradient` function in `linear_regression.py` which compute the gradient of the objective fuction. \n",
    "\n",
    "Train you model by using `lm.train('1')` function.\n",
    "\n",
    "Print the training error and the testing error using `lm.predict` and `lm.compute_mse` given."
   ]
  },
  {
   "cell_type": "code",
   "execution_count": 5,
   "metadata": {},
   "outputs": [
    {
     "name": "stdout",
     "output_type": "stream",
     "text": [
      "Learning Algorithm Type:  1\n",
      "Training accuracy is:  0.08693895533150824\n",
      "Testing accuracy is:  0.11016592170824556\n"
     ]
    }
   ],
   "source": [
    "\"\"\"add import here so can just run this cell alone when update the source code\"\"\"\n",
    "from hw1code.linear_regression import LinearRegression\n",
    "\n",
    "lm=LinearRegression()\n",
    "lm.load_data('./data/linear-regression-train.csv','./data/linear-regression-test.csv')\n",
    "training_error= 0\n",
    "testing_error= 0\n",
    "#========================#\n",
    "# STRART YOUR CODE HERE  #\n",
    "#========================#\n",
    "beta = lm.train('1')\n",
    "training_error, testing_error = train_and_predict(lm, beta)\n",
    "#========================#\n",
    "#   END YOUR CODE HERE   #\n",
    "#========================# \n",
    "print('Training accuracy is: ', training_error)\n",
    "print('Testing accuracy is: ', testing_error)"
   ]
  },
  {
   "cell_type": "markdown",
   "metadata": {},
   "source": [
    "### 1.3 Stochastic gadient descent \n",
    "In this section, complete the `getBetaStochasticGradient` function in `linear_regression.py`, which use an estimated gradient of the objective function.\n",
    "\n",
    "Train you model by using `lm.train('2')` function.\n",
    "\n",
    "Print the training error and the testing error using `lm.predict` and `lm.compute_mse` given."
   ]
  },
  {
   "cell_type": "code",
   "execution_count": 6,
   "metadata": {},
   "outputs": [
    {
     "name": "stdout",
     "output_type": "stream",
     "text": [
      "Learning Algorithm Type:  2\n",
      "Training accuracy is:  0.09337211730536127\n",
      "Testing accuracy is:  0.11828923255919811\n"
     ]
    }
   ],
   "source": [
    "\"\"\"add import here so can just run this cell alone when update the source code\"\"\"\n",
    "from hw1code.linear_regression import LinearRegression\n",
    "\n",
    "lm=LinearRegression()\n",
    "lm.load_data('./data/linear-regression-train.csv','./data/linear-regression-test.csv')\n",
    "training_error= 0\n",
    "testing_error= 0\n",
    "#========================#\n",
    "# STRART YOUR CODE HERE  #\n",
    "#========================#\n",
    "beta = lm.train('2')\n",
    "training_error, testing_error = train_and_predict(lm, beta)\n",
    "#========================#\n",
    "#   END YOUR CODE HERE   #\n",
    "#========================# \n",
    "print('Training accuracy is: ', training_error)\n",
    "print('Testing accuracy is: ', testing_error)"
   ]
  },
  {
   "cell_type": "code",
   "execution_count": 7,
   "metadata": {},
   "outputs": [
    {
     "name": "stdout",
     "output_type": "stream",
     "text": [
      "Learning Algorithm Type:  0\n",
      "Training error for 0 =  0.08693886675396784\n",
      "Testing error for 0 =  0.11017540281675804\n",
      "Learning Algorithm Type:  1\n",
      "Training error for 1 =  0.10024222412685467\n",
      "Testing error for 1 =  0.14039955364152018\n",
      "Learning Algorithm Type:  2\n",
      "Training error for 2 =  0.0869952008695027\n",
      "Testing error for 2 =  0.1099647262725722\n"
     ]
    }
   ],
   "source": [
    "\"\"\"Normalize data\"\"\"\n",
    "from hw1code.linear_regression import LinearRegression\n",
    "\n",
    "lm=LinearRegression()\n",
    "lm.load_data('./data/linear-regression-train.csv','./data/linear-regression-test.csv')\n",
    "lm.normalize()\n",
    "for train_type in ['0', '1', '2']:\n",
    "    beta = lm.train(train_type)\n",
    "    training_error, testing_error = train_and_predict(lm, beta)\n",
    "    print('Training error for ' + train_type + ' = ', training_error )\n",
    "    print('Testing error for ' + train_type + ' = ', testing_error )"
   ]
  },
  {
   "cell_type": "markdown",
   "metadata": {},
   "source": [
    "### Questions: \n",
    "1. Compare the MSE on the testing dataset for each version. Are they the same? Why or why not?\n",
    "2. Apply z-score normalization for eachh featrure and comment whether or not it affect the three algorithm. \n",
    "3. Ridge regression is adding an L2 regularization term to the original objective function of mean squared error. The objective function become following: \n",
    "    $$ J(\\beta) = \\frac{1}{2n} \\sum_i \\left(x_i^T\\beta - y_i \\right)^2 + \\frac{\\lambda}{2n} \\sum_j \\beta_j^2 ,$$ \n",
    "where $\\lambda \\leq 0$, which is a hyper parameter that controls the trade off. Take the derivative of this provided objective function and derive the closed form solution for $\\beta$. "
   ]
  },
  {
   "cell_type": "markdown",
   "metadata": {},
   "source": [
    "### Your answer here: \n"
   ]
  },
  {
   "cell_type": "markdown",
   "metadata": {},
   "source": [
    "<span style=\"color:blue\"> \n",
    "    1. The testing errors are not the same and slightly different. The Closed Form and Batch Gradient performed similarly while the Stochastic Graident performed a bit worse. I think Closed Form and Batch Gradient all reached the optimum and the little difference is because Batch Gradient has learning rate which prevents it from achieving the absolute best in limited iterations. The Stochastic Graidient performed worse maybe because the learning rate is smaller and it converges much slower.<br>\n",
    "    2. It does not affect the Closed Form algorithm but affects Batch Gradient and Stochastic Gradient algorithms. <br>\n",
    "    3. The matrix form of objective function can be written as \n",
    "        $ \\frac{1}{2n}(X\\beta - y)^T(X\\beta - y) + \\frac{\\lambda}{2n}\\beta^T\\beta $ <br>\n",
    "       Taking derivative of the matrix form as 0:\n",
    "        $ J(\\beta)' = (X^TX\\beta - X^Ty)/n + \\frac{\\lambda}{n}\\beta = 0$ <br>\n",
    "       So $(X^TX + \\lambda)\\beta = X^Ty$, the closed form solution of $\\beta$ is \n",
    "        $$ \\beta = （X^TX + \\lambda I)^{-1}X^Ty$$\n",
    "</span>"
   ]
  },
  {
   "cell_type": "markdown",
   "metadata": {},
   "source": [
    "## 2. Logistic regression \n",
    "This workbook will walk you through a logistic regression example. "
   ]
  },
  {
   "cell_type": "code",
   "execution_count": 8,
   "metadata": {},
   "outputs": [
    {
     "name": "stdout",
     "output_type": "stream",
     "text": [
      "Training data shape:  (1000, 5)\n",
      "Training labels shape: (1000,)\n"
     ]
    }
   ],
   "source": [
    "from hw1code.logistic_regression import LogisticRegression\n",
    "\n",
    "lm=LogisticRegression()\n",
    "lm.load_data('./data/logistic-regression-train.csv','./data/logistic-regression-test.csv')\n",
    "# As a sanity chech, we print out the size of the training data (1000, 5) and training labels (1000,)\n",
    "print('Training data shape: ', lm.train_x.shape)\n",
    "print('Training labels shape:', lm.train_y.shape)"
   ]
  },
  {
   "cell_type": "code",
   "execution_count": 9,
   "metadata": {},
   "outputs": [],
   "source": [
    "def train_and_predict_logistic(lm, beta):\n",
    "    train_predict_y = lm.predict(lm.train_x, beta)\n",
    "    test_predict_y = lm.predict(lm.test_x, beta)\n",
    "    training_accuracy = lm.compute_accuracy(train_predict_y, lm.train_y)\n",
    "    testing_accuracy = lm.compute_accuracy(test_predict_y, lm.test_y)\n",
    "    return training_accuracy, testing_accuracy"
   ]
  },
  {
   "cell_type": "markdown",
   "metadata": {},
   "source": [
    "### 2.1 Batch gradiend descent\n",
    "In this section, complete the `getBeta_BatchGradient` in `logistic_regression.py`, which compute the gradient of the log likelihoood function. \n",
    "\n",
    "Complete the `compute_avglogL` function in `logistic_regression.py` for sanity check. \n",
    "\n",
    "Train you model by using `lm.train('0')` function.\n",
    "\n",
    "And print the training and testing accuracy using `lm.predict` and `lm.compute_accuracy` given. "
   ]
  },
  {
   "cell_type": "code",
   "execution_count": 10,
   "metadata": {},
   "outputs": [
    {
     "name": "stdout",
     "output_type": "stream",
     "text": [
      "average logL for iteration 0: -0.48427563333314566 \t\n",
      "average logL for iteration 1000: -0.46010037535085324 \t\n",
      "average logL for iteration 2000: -0.46010037535085324 \t\n",
      "average logL for iteration 3000: -0.46010037535085324 \t\n",
      "average logL for iteration 4000: -0.46010037535085324 \t\n",
      "average logL for iteration 5000: -0.46010037535085324 \t\n",
      "average logL for iteration 6000: -0.46010037535085324 \t\n",
      "average logL for iteration 7000: -0.46010037535085324 \t\n",
      "average logL for iteration 8000: -0.46010037535085324 \t\n",
      "average logL for iteration 9000: -0.46010037535085324 \t\n",
      "Training avgLogL:  -0.46010037535085324\n",
      "Training accuracy is:  0.797\n",
      "Testing accuracy is:  0.7534791252485089\n"
     ]
    }
   ],
   "source": [
    "\"\"\"add import here so can just run this cell alone when update the source code\"\"\"\n",
    "from hw1code.logistic_regression import LogisticRegression\n",
    "\n",
    "lm=LogisticRegression()\n",
    "lm.load_data('./data/logistic-regression-train.csv','./data/logistic-regression-test.csv')\n",
    "training_accuracy= 0\n",
    "testing_accuracy= 0\n",
    "#========================#\n",
    "# STRART YOUR CODE HERE  #\n",
    "#========================#\n",
    "lm.normalize()\n",
    "beta = lm.train('0')\n",
    "training_accuracy, testing_accuracy = train_and_predict_logistic(lm, beta)\n",
    "#========================#\n",
    "#   END YOUR CODE HERE   #\n",
    "#========================# \n",
    "print('Training accuracy is: ', training_accuracy)\n",
    "print('Testing accuracy is: ', testing_accuracy)"
   ]
  },
  {
   "cell_type": "markdown",
   "metadata": {},
   "source": [
    "### 2.2 Newton Raphhson\n",
    "In this section, complete the `getBeta_Newton` in `logistic_regression.py`, which make use of both first and second derivative.\n",
    "\n",
    "Train you model by using `lm.train('1')` function.\n",
    "\n",
    "Print the training and testing accuracy using `lm.predict` and `lm.compute_accuracy` given. "
   ]
  },
  {
   "cell_type": "code",
   "execution_count": 11,
   "metadata": {},
   "outputs": [
    {
     "name": "stdout",
     "output_type": "stream",
     "text": [
      "average logL for iteration 0: -0.5564001859888966 \t\n",
      "average logL for iteration 500: -0.46010037535085324 \t\n",
      "average logL for iteration 1000: -0.46010037535085324 \t\n",
      "average logL for iteration 1500: -0.46010037535085324 \t\n",
      "average logL for iteration 2000: -0.46010037535085324 \t\n",
      "average logL for iteration 2500: -0.46010037535085324 \t\n",
      "average logL for iteration 3000: -0.46010037535085324 \t\n",
      "average logL for iteration 3500: -0.46010037535085324 \t\n",
      "average logL for iteration 4000: -0.46010037535085324 \t\n",
      "average logL for iteration 4500: -0.46010037535085324 \t\n",
      "average logL for iteration 5000: -0.46010037535085324 \t\n",
      "average logL for iteration 5500: -0.46010037535085324 \t\n",
      "average logL for iteration 6000: -0.46010037535085324 \t\n",
      "average logL for iteration 6500: -0.46010037535085324 \t\n",
      "average logL for iteration 7000: -0.46010037535085324 \t\n",
      "average logL for iteration 7500: -0.46010037535085324 \t\n",
      "average logL for iteration 8000: -0.46010037535085324 \t\n",
      "average logL for iteration 8500: -0.46010037535085324 \t\n",
      "average logL for iteration 9000: -0.46010037535085324 \t\n",
      "average logL for iteration 9500: -0.46010037535085324 \t\n",
      "Training avgLogL:  -0.46010037535085324\n",
      "Training accuracy is:  0.797\n",
      "Testing accuracy is:  0.7534791252485089\n"
     ]
    }
   ],
   "source": [
    "\"\"\"add import here so can just run this cell alone when update the source code\"\"\"\n",
    "from hw1code.logistic_regression import LogisticRegression\n",
    "\n",
    "lm=LogisticRegression()\n",
    "lm.load_data('./data/logistic-regression-train.csv','./data/logistic-regression-test.csv')\n",
    "training_accuracy= 0\n",
    "testing_accuracy= 0\n",
    "#========================#\n",
    "# STRART YOUR CODE HERE  #\n",
    "#========================#\n",
    "lm.normalize()\n",
    "beta = lm.train('1')\n",
    "training_accuracy, testing_accuracy = train_and_predict_logistic(lm, beta)\n",
    "#========================#\n",
    "#   END YOUR CODE HERE   #\n",
    "#========================# \n",
    "print('Training accuracy is: ', training_accuracy)\n",
    "print('Testing accuracy is: ', testing_accuracy)"
   ]
  },
  {
   "cell_type": "markdown",
   "metadata": {},
   "source": [
    "### Questions: \n",
    "1. Compare the accuracy on the testing dataset for each version. Are they the same? Why or why not?\n",
    "2. Regularization. Similar to linear regression, an regularization term could be added to logistic regression. \n",
    "The objective function becomes following: \n",
    "    $$ J(\\beta) = -\\frac{1}{n} \\sum_i \\left(y_i x_i^T \\beta - \\log \\left( 1+ \\exp\\{ x_i^T \\beta \\} \\right) \\right) + \\lambda \\sum_j \\beta_j^2,$$ \n",
    "where $\\lambda \\leq 0$, which is a hyper parameter that controls the trade off. Take the derivative $\\frac{\\partial J(\\beta)}{\\partial \\beta_j}$ of this provided objective function and provide the batch gradient descent update."
   ]
  },
  {
   "cell_type": "markdown",
   "metadata": {},
   "source": [
    "### Your answer here:"
   ]
  },
  {
   "cell_type": "markdown",
   "metadata": {},
   "source": [
    "<span style=\"color:blue\"> \n",
    "    1. They are the same because both methods achieve the optimum for log likelihood and the result beta is unique. <br>\n",
    "    2. The derivative of new objective function is the derivative of original J + derivate of regularization term. \n",
    "        $$ \\frac{\\partial J(\\beta)}{\\partial \\beta_j} = \\sum_{i=1}^Nx_{ij}(y_i-p_i(\\beta)) + 2\\lambda\\beta_j$$ \n",
    "       The batch gradient update is \n",
    "        $$ \\beta^{new} = \\beta^{old} + \\eta v(v_j = \\sum_{i=1}^Nx_{ij}(y_i-p_i(\\beta)) + 2\\lambda\\beta_j)$$\n",
    "    \n",
    "</span>"
   ]
  },
  {
   "cell_type": "markdown",
   "metadata": {},
   "source": [
    "### 2.3 Visualize the decision boundary on a toy dataset\n",
    "\n",
    "In this subsection, you will use the same implementation for another small dataset with each datapoint $x$ with only two features $(x_1, x_2)$ to visualize the decision boundary of logistic regression model."
   ]
  },
  {
   "cell_type": "code",
   "execution_count": 12,
   "metadata": {},
   "outputs": [
    {
     "name": "stdout",
     "output_type": "stream",
     "text": [
      "Training data shape:  (99, 2)\n",
      "Training labels shape: (99,)\n"
     ]
    }
   ],
   "source": [
    "from hw1code.logistic_regression import LogisticRegression\n",
    "\n",
    "lm=LogisticRegression(verbose = False)\n",
    "lm.load_data('./data/logistic-regression-toy.csv','./data/logistic-regression-toy.csv')\n",
    "# As a sanity chech, we print out the size of the training data (99,2) and training labels (99,)\n",
    "print('Training data shape: ', lm.train_x.shape)\n",
    "print('Training labels shape:', lm.train_y.shape)"
   ]
  },
  {
   "cell_type": "markdown",
   "metadata": {},
   "source": [
    "In the following block, you can apply the same implementation of logistic regression model (either in 2.1 or 2.2) to the toy dataset. Print out the $\\hat{\\beta}$ after training and accuracy on the train set.  "
   ]
  },
  {
   "cell_type": "code",
   "execution_count": 13,
   "metadata": {},
   "outputs": [
    {
     "name": "stdout",
     "output_type": "stream",
     "text": [
      "Training avgLogL:  -0.329147431295712\n",
      "[-2.6205116   0.76037154  1.17194674]\n",
      "Training accuracy is:  0.8888888888888888\n"
     ]
    }
   ],
   "source": [
    "training_accuracy= 0\n",
    "#========================#\n",
    "# STRART YOUR CODE HERE  #\n",
    "#========================#\n",
    "beta = lm.train('0')\n",
    "train_predict_y = lm.predict(lm.train_x, beta)\n",
    "training_accuracy = lm.compute_accuracy(train_predict_y, lm.train_y)\n",
    "print(beta)\n",
    "#========================#\n",
    "#   END YOUR CODE HERE   #\n",
    "#========================# \n",
    "print('Training accuracy is: ', training_accuracy)"
   ]
  },
  {
   "cell_type": "markdown",
   "metadata": {},
   "source": [
    "Next, we try to plot the decision boundary of your learned logistic regression classifier. Generally, a decision boundary is the region of a space in which the output label of a classifier is ambiguous. That is, in the given toy data, given a datapoint $x=(x_1, x_2)$ on the decision boundary, the logistic regression classifier cannot decide whether $y=0$ or $y=1$. "
   ]
  },
  {
   "cell_type": "markdown",
   "metadata": {},
   "source": [
    "### Question\n",
    "\n",
    "Is the decision boundary for logistic regression linear? Why or why not?"
   ]
  },
  {
   "cell_type": "markdown",
   "metadata": {},
   "source": [
    "### Your answer here:"
   ]
  },
  {
   "cell_type": "markdown",
   "metadata": {},
   "source": [
    "<span style=\"color:blue\">\n",
    "    Yes it is linear as there are only two variables involved with only first indexes.\n",
    "</span>"
   ]
  },
  {
   "cell_type": "markdown",
   "metadata": {},
   "source": [
    "Draw the decision boundary in the following cell. Note that the code to plot the raw data points are given. You may need `plt.plot` function (see [here](https://matplotlib.org/tutorials/introductory/pyplot.html)). "
   ]
  },
  {
   "cell_type": "code",
   "execution_count": 14,
   "metadata": {},
   "outputs": [
    {
     "data": {
      "image/png": "[encoded data removed]",
      "text/plain": [
       "<Figure size 432x288 with 1 Axes>"
      ]
     },
     "metadata": {
      "needs_background": "light"
     },
     "output_type": "display_data"
    }
   ],
   "source": [
    "# scatter plot the raw data\n",
    "df = pd.concat([lm.train_x, lm.train_y], axis=1)\n",
    "groups = df.groupby(\"y\")\n",
    "for name, group in groups:\n",
    "    plt.plot(group[\"x1\"], group[\"x2\"], marker=\"o\", linestyle=\"\", label=name)\n",
    "    \n",
    "# plot the decision boundary on top of the scattered points\n",
    "#========================#\n",
    "# STRART YOUR CODE HERE  #\n",
    "#========================#\n",
    "\n",
    "x1_values = [i for i in np.arange(0,9,0.01)]\n",
    "x2_values = []\n",
    "\n",
    "# boundary: x1*beta[1] + x2*beta[2] + beta[0] = 0\n",
    "for x1 in x1_values:\n",
    "    x2 = (-beta[0] - x1*beta[1]) / beta[2]\n",
    "    x2_values.append(x2)\n",
    "\n",
    "plt.plot(x1_values, x2_values)\n",
    "#========================#\n",
    "#   END YOUR CODE HERE   #\n",
    "#========================#\n",
    "plt.show()"
   ]
  },
  {
   "cell_type": "markdown",
   "metadata": {},
   "source": [
    "# End of Homework 1 :)\n",
    "After you've finished the homework, please print out the entire `ipynb` notebook and two `py` files into one PDF file. Make sure you include the output of code cells and answers for questions. Prepare submit it to GradeScope. "
   ]
  }
 ],
 "metadata": {
  "kernelspec": {
   "display_name": "Python 3",
   "language": "python",
   "name": "python3"
  },
  "language_info": {
   "codemirror_mode": {
    "name": "ipython",
    "version": 3
   },
   "file_extension": ".py",
   "mimetype": "text/x-python",
   "name": "python",
   "nbconvert_exporter": "python",
   "pygments_lexer": "ipython3",
   "version": "3.6.12"
  }
 },
 "nbformat": 4,
 "nbformat_minor": 4
}
